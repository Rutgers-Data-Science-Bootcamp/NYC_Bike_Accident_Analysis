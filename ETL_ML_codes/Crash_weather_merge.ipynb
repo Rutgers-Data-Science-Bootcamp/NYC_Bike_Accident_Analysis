{
 "cells": [
  {
   "cell_type": "code",
   "execution_count": 46,
   "id": "e1090fd0-acbf-4774-a6bf-679118ac8b91",
   "metadata": {},
   "outputs": [],
   "source": [
    "# Initial imports\n",
    "import numpy as np\n",
    "import pandas as pd\n",
    "import hvplot.pandas\n",
    "from pathlib import Path"
   ]
  },
  {
   "cell_type": "code",
   "execution_count": 47,
   "id": "842c574c-a5a8-4680-8445-555a87f1f6e5",
   "metadata": {},
   "outputs": [
    {
     "name": "stdout",
     "output_type": "stream",
     "text": [
      "(24336, 8)\n"
     ]
    },
    {
     "data": {
      "text/html": [
       "<div>\n",
       "<style scoped>\n",
       "    .dataframe tbody tr th:only-of-type {\n",
       "        vertical-align: middle;\n",
       "    }\n",
       "\n",
       "    .dataframe tbody tr th {\n",
       "        vertical-align: top;\n",
       "    }\n",
       "\n",
       "    .dataframe thead th {\n",
       "        text-align: right;\n",
       "    }\n",
       "</style>\n",
       "<table border=\"1\" class=\"dataframe\">\n",
       "  <thead>\n",
       "    <tr style=\"text-align: right;\">\n",
       "      <th></th>\n",
       "      <th>DATES</th>\n",
       "      <th>TIME</th>\n",
       "      <th>TEMP</th>\n",
       "      <th>VISIBILITY</th>\n",
       "      <th>HUMIDITY</th>\n",
       "      <th>WIND_SPEED</th>\n",
       "      <th>WEATHER_MAIN</th>\n",
       "      <th>HOUR</th>\n",
       "    </tr>\n",
       "  </thead>\n",
       "  <tbody>\n",
       "    <tr>\n",
       "      <th>0</th>\n",
       "      <td>2020-01-01</td>\n",
       "      <td>00:00:00</td>\n",
       "      <td>44.19</td>\n",
       "      <td>10000.0</td>\n",
       "      <td>71</td>\n",
       "      <td>10.29</td>\n",
       "      <td>Clouds</td>\n",
       "      <td>0</td>\n",
       "    </tr>\n",
       "    <tr>\n",
       "      <th>1</th>\n",
       "      <td>2020-01-01</td>\n",
       "      <td>01:00:00</td>\n",
       "      <td>44.15</td>\n",
       "      <td>10000.0</td>\n",
       "      <td>71</td>\n",
       "      <td>10.29</td>\n",
       "      <td>Clouds</td>\n",
       "      <td>1</td>\n",
       "    </tr>\n",
       "    <tr>\n",
       "      <th>2</th>\n",
       "      <td>2020-01-01</td>\n",
       "      <td>02:00:00</td>\n",
       "      <td>42.82</td>\n",
       "      <td>10000.0</td>\n",
       "      <td>70</td>\n",
       "      <td>17.22</td>\n",
       "      <td>Rain</td>\n",
       "      <td>2</td>\n",
       "    </tr>\n",
       "    <tr>\n",
       "      <th>3</th>\n",
       "      <td>2020-01-01</td>\n",
       "      <td>03:00:00</td>\n",
       "      <td>42.58</td>\n",
       "      <td>10000.0</td>\n",
       "      <td>68</td>\n",
       "      <td>16.11</td>\n",
       "      <td>Rain</td>\n",
       "      <td>3</td>\n",
       "    </tr>\n",
       "    <tr>\n",
       "      <th>4</th>\n",
       "      <td>2020-01-01</td>\n",
       "      <td>04:00:00</td>\n",
       "      <td>42.31</td>\n",
       "      <td>10000.0</td>\n",
       "      <td>64</td>\n",
       "      <td>21.92</td>\n",
       "      <td>Clouds</td>\n",
       "      <td>4</td>\n",
       "    </tr>\n",
       "  </tbody>\n",
       "</table>\n",
       "</div>"
      ],
      "text/plain": [
       "        DATES      TIME   TEMP  VISIBILITY  HUMIDITY  WIND_SPEED WEATHER_MAIN  \\\n",
       "0  2020-01-01  00:00:00  44.19     10000.0        71       10.29       Clouds   \n",
       "1  2020-01-01  01:00:00  44.15     10000.0        71       10.29       Clouds   \n",
       "2  2020-01-01  02:00:00  42.82     10000.0        70       17.22         Rain   \n",
       "3  2020-01-01  03:00:00  42.58     10000.0        68       16.11         Rain   \n",
       "4  2020-01-01  04:00:00  42.31     10000.0        64       21.92       Clouds   \n",
       "\n",
       "   HOUR  \n",
       "0     0  \n",
       "1     1  \n",
       "2     2  \n",
       "3     3  \n",
       "4     4  "
      ]
     },
     "execution_count": 47,
     "metadata": {},
     "output_type": "execute_result"
    }
   ],
   "source": [
    "# call the weather file\n",
    "file_path = \"../Resources/NYC_weather_data_cleaned.csv\"\n",
    "weather_df = pd.read_csv(file_path, index_col=0 )\n",
    "print(weather_df.shape)\n",
    "weather_df.head(5)"
   ]
  },
  {
   "cell_type": "code",
   "execution_count": 48,
   "id": "46a70b59-cded-46aa-8ea4-fc4c53e95689",
   "metadata": {},
   "outputs": [],
   "source": [
    "# change TIME type from datetime to string inorder to be able to strip hours\n",
    "weather_df[\"TIME\"]=weather_df[\"TIME\"].astype(str)"
   ]
  },
  {
   "cell_type": "code",
   "execution_count": 49,
   "id": "365a7453-b1fa-47ed-9b1e-886c1bae88b0",
   "metadata": {},
   "outputs": [],
   "source": [
    "# make a column HOUR with hours from stripped\n",
    "weather_df[\"HOUR\"]= weather_df['TIME'].str[:2]"
   ]
  },
  {
   "cell_type": "code",
   "execution_count": 50,
   "id": "0021ef4e-262d-4cdd-b467-22e6e3bc5fa3",
   "metadata": {},
   "outputs": [
    {
     "data": {
      "text/plain": [
       "0        00\n",
       "1        01\n",
       "2        02\n",
       "3        03\n",
       "4        04\n",
       "         ..\n",
       "25696    19\n",
       "25697    20\n",
       "25698    21\n",
       "25699    22\n",
       "25700    23\n",
       "Name: HOUR, Length: 24336, dtype: object"
      ]
     },
     "execution_count": 50,
     "metadata": {},
     "output_type": "execute_result"
    }
   ],
   "source": [
    "# check the new column\n",
    "weather_df[\"HOUR\"]"
   ]
  },
  {
   "cell_type": "code",
   "execution_count": 51,
   "id": "200b908d-8a74-40ca-a48c-a81fcc7cc3b2",
   "metadata": {},
   "outputs": [],
   "source": [
    "# dropping duplicates from the dataframe based on DATES and TIME \n",
    "weather_df1=weather_df.drop_duplicates(subset= [\"DATES\", \"TIME\"])"
   ]
  },
  {
   "cell_type": "code",
   "execution_count": 52,
   "id": "62cb5352-8b07-4ff3-b1d8-01ca9d4846c5",
   "metadata": {},
   "outputs": [],
   "source": [
    "# change DATES type from string to Datetime\n",
    "weather_df1[\"DATES\"]= pd.to_datetime(weather_df1[\"DATES\"])"
   ]
  },
  {
   "cell_type": "code",
   "execution_count": 53,
   "id": "a0fa8e46-b977-46dd-95f9-24e1e2022c8a",
   "metadata": {},
   "outputs": [
    {
     "name": "stdout",
     "output_type": "stream",
     "text": [
      "(9193, 21)\n"
     ]
    },
    {
     "data": {
      "text/html": [
       "<div>\n",
       "<style scoped>\n",
       "    .dataframe tbody tr th:only-of-type {\n",
       "        vertical-align: middle;\n",
       "    }\n",
       "\n",
       "    .dataframe tbody tr th {\n",
       "        vertical-align: top;\n",
       "    }\n",
       "\n",
       "    .dataframe thead th {\n",
       "        text-align: right;\n",
       "    }\n",
       "</style>\n",
       "<table border=\"1\" class=\"dataframe\">\n",
       "  <thead>\n",
       "    <tr style=\"text-align: right;\">\n",
       "      <th></th>\n",
       "      <th>index</th>\n",
       "      <th>CRASH DATE</th>\n",
       "      <th>CRASH TIME</th>\n",
       "      <th>BOROUGH</th>\n",
       "      <th>ZIP CODE</th>\n",
       "      <th>LATITUDE</th>\n",
       "      <th>LONGITUDE</th>\n",
       "      <th>LOCATION</th>\n",
       "      <th>NUMBER OF PERSONS INJURED</th>\n",
       "      <th>NUMBER OF PERSONS KILLED</th>\n",
       "      <th>...</th>\n",
       "      <th>NUMBER OF PEDESTRIANS KILLED</th>\n",
       "      <th>NUMBER OF CYCLIST INJURED</th>\n",
       "      <th>NUMBER OF CYCLIST KILLED</th>\n",
       "      <th>NUMBER OF MOTORIST INJURED</th>\n",
       "      <th>NUMBER OF MOTORIST KILLED</th>\n",
       "      <th>CONTRIBUTING FACTOR VEHICLE 1</th>\n",
       "      <th>CONTRIBUTING FACTOR VEHICLE 2</th>\n",
       "      <th>VEHICLE TYPE CODE 1</th>\n",
       "      <th>VEHICLE TYPE CODE 2</th>\n",
       "      <th>STREET</th>\n",
       "    </tr>\n",
       "    <tr>\n",
       "      <th>COLLISION_ID</th>\n",
       "      <th></th>\n",
       "      <th></th>\n",
       "      <th></th>\n",
       "      <th></th>\n",
       "      <th></th>\n",
       "      <th></th>\n",
       "      <th></th>\n",
       "      <th></th>\n",
       "      <th></th>\n",
       "      <th></th>\n",
       "      <th></th>\n",
       "      <th></th>\n",
       "      <th></th>\n",
       "      <th></th>\n",
       "      <th></th>\n",
       "      <th></th>\n",
       "      <th></th>\n",
       "      <th></th>\n",
       "      <th></th>\n",
       "      <th></th>\n",
       "      <th></th>\n",
       "    </tr>\n",
       "  </thead>\n",
       "  <tbody>\n",
       "    <tr>\n",
       "      <th>4271563</th>\n",
       "      <td>13297</td>\n",
       "      <td>1/2/20</td>\n",
       "      <td>13:00:00</td>\n",
       "      <td>MANHATTAN</td>\n",
       "      <td>10003</td>\n",
       "      <td>40.714165</td>\n",
       "      <td>-74.006320</td>\n",
       "      <td>(40.714165, -74.00632)</td>\n",
       "      <td>1</td>\n",
       "      <td>0</td>\n",
       "      <td>...</td>\n",
       "      <td>0</td>\n",
       "      <td>1</td>\n",
       "      <td>0</td>\n",
       "      <td>0</td>\n",
       "      <td>0</td>\n",
       "      <td>Driver Inattention/Distraction</td>\n",
       "      <td>Unspecified</td>\n",
       "      <td>Sedan</td>\n",
       "      <td>Bike</td>\n",
       "      <td>CHAMBERS STREET</td>\n",
       "    </tr>\n",
       "    <tr>\n",
       "      <th>4268322</th>\n",
       "      <td>13344</td>\n",
       "      <td>1/2/20</td>\n",
       "      <td>16:00:00</td>\n",
       "      <td>MANHATTAN</td>\n",
       "      <td>10012</td>\n",
       "      <td>40.725643</td>\n",
       "      <td>-73.992070</td>\n",
       "      <td>(40.725643, -73.99207)</td>\n",
       "      <td>1</td>\n",
       "      <td>0</td>\n",
       "      <td>...</td>\n",
       "      <td>0</td>\n",
       "      <td>1</td>\n",
       "      <td>0</td>\n",
       "      <td>0</td>\n",
       "      <td>0</td>\n",
       "      <td>Turning Improperly</td>\n",
       "      <td>Unspecified</td>\n",
       "      <td>Sedan</td>\n",
       "      <td>Bike</td>\n",
       "      <td>BOWERY</td>\n",
       "    </tr>\n",
       "    <tr>\n",
       "      <th>4268207</th>\n",
       "      <td>13347</td>\n",
       "      <td>1/2/20</td>\n",
       "      <td>17:00:00</td>\n",
       "      <td>BROOKLYN</td>\n",
       "      <td>11221</td>\n",
       "      <td>40.693874</td>\n",
       "      <td>-73.917770</td>\n",
       "      <td>(40.693874, -73.91777)</td>\n",
       "      <td>1</td>\n",
       "      <td>0</td>\n",
       "      <td>...</td>\n",
       "      <td>0</td>\n",
       "      <td>1</td>\n",
       "      <td>0</td>\n",
       "      <td>0</td>\n",
       "      <td>0</td>\n",
       "      <td>Traffic Control Disregarded</td>\n",
       "      <td>Unspecified</td>\n",
       "      <td>Station Wagon/Sport Utility Vehicle</td>\n",
       "      <td>Bike</td>\n",
       "      <td>CENTRAL AVENUE</td>\n",
       "    </tr>\n",
       "    <tr>\n",
       "      <th>4268408</th>\n",
       "      <td>13304</td>\n",
       "      <td>1/3/20</td>\n",
       "      <td>8:00:00</td>\n",
       "      <td>BRONX</td>\n",
       "      <td>10456</td>\n",
       "      <td>40.820747</td>\n",
       "      <td>-73.906006</td>\n",
       "      <td>(40.820747, -73.906006)</td>\n",
       "      <td>1</td>\n",
       "      <td>0</td>\n",
       "      <td>...</td>\n",
       "      <td>0</td>\n",
       "      <td>1</td>\n",
       "      <td>0</td>\n",
       "      <td>0</td>\n",
       "      <td>0</td>\n",
       "      <td>Driver Inattention/Distraction</td>\n",
       "      <td>Unspecified</td>\n",
       "      <td>E-Bike</td>\n",
       "      <td>Taxi</td>\n",
       "      <td>JACKSON AVENUE</td>\n",
       "    </tr>\n",
       "    <tr>\n",
       "      <th>4269187</th>\n",
       "      <td>13349</td>\n",
       "      <td>1/3/20</td>\n",
       "      <td>11:00:00</td>\n",
       "      <td>BROOKLYN</td>\n",
       "      <td>11205</td>\n",
       "      <td>40.691017</td>\n",
       "      <td>-73.954475</td>\n",
       "      <td>(40.691017, -73.954475)</td>\n",
       "      <td>1</td>\n",
       "      <td>0</td>\n",
       "      <td>...</td>\n",
       "      <td>0</td>\n",
       "      <td>1</td>\n",
       "      <td>0</td>\n",
       "      <td>0</td>\n",
       "      <td>0</td>\n",
       "      <td>View Obstructed/Limited</td>\n",
       "      <td>Unsafe Speed</td>\n",
       "      <td>Sedan</td>\n",
       "      <td>E-Bike</td>\n",
       "      <td>DE KALB AVENUE</td>\n",
       "    </tr>\n",
       "  </tbody>\n",
       "</table>\n",
       "<p>5 rows × 21 columns</p>\n",
       "</div>"
      ],
      "text/plain": [
       "              index CRASH DATE CRASH TIME    BOROUGH  ZIP CODE   LATITUDE  \\\n",
       "COLLISION_ID                                                                \n",
       "4271563       13297     1/2/20   13:00:00  MANHATTAN     10003  40.714165   \n",
       "4268322       13344     1/2/20   16:00:00  MANHATTAN     10012  40.725643   \n",
       "4268207       13347     1/2/20   17:00:00   BROOKLYN     11221  40.693874   \n",
       "4268408       13304     1/3/20    8:00:00      BRONX     10456  40.820747   \n",
       "4269187       13349     1/3/20   11:00:00   BROOKLYN     11205  40.691017   \n",
       "\n",
       "              LONGITUDE                 LOCATION  NUMBER OF PERSONS INJURED  \\\n",
       "COLLISION_ID                                                                  \n",
       "4271563      -74.006320   (40.714165, -74.00632)                          1   \n",
       "4268322      -73.992070   (40.725643, -73.99207)                          1   \n",
       "4268207      -73.917770   (40.693874, -73.91777)                          1   \n",
       "4268408      -73.906006  (40.820747, -73.906006)                          1   \n",
       "4269187      -73.954475  (40.691017, -73.954475)                          1   \n",
       "\n",
       "              NUMBER OF PERSONS KILLED  ...  NUMBER OF PEDESTRIANS KILLED  \\\n",
       "COLLISION_ID                            ...                                 \n",
       "4271563                              0  ...                             0   \n",
       "4268322                              0  ...                             0   \n",
       "4268207                              0  ...                             0   \n",
       "4268408                              0  ...                             0   \n",
       "4269187                              0  ...                             0   \n",
       "\n",
       "              NUMBER OF CYCLIST INJURED  NUMBER OF CYCLIST KILLED  \\\n",
       "COLLISION_ID                                                        \n",
       "4271563                               1                         0   \n",
       "4268322                               1                         0   \n",
       "4268207                               1                         0   \n",
       "4268408                               1                         0   \n",
       "4269187                               1                         0   \n",
       "\n",
       "              NUMBER OF MOTORIST INJURED  NUMBER OF MOTORIST KILLED  \\\n",
       "COLLISION_ID                                                          \n",
       "4271563                                0                          0   \n",
       "4268322                                0                          0   \n",
       "4268207                                0                          0   \n",
       "4268408                                0                          0   \n",
       "4269187                                0                          0   \n",
       "\n",
       "               CONTRIBUTING FACTOR VEHICLE 1 CONTRIBUTING FACTOR VEHICLE 2  \\\n",
       "COLLISION_ID                                                                 \n",
       "4271563       Driver Inattention/Distraction                   Unspecified   \n",
       "4268322                   Turning Improperly                   Unspecified   \n",
       "4268207          Traffic Control Disregarded                   Unspecified   \n",
       "4268408       Driver Inattention/Distraction                   Unspecified   \n",
       "4269187              View Obstructed/Limited                  Unsafe Speed   \n",
       "\n",
       "                              VEHICLE TYPE CODE 1 VEHICLE TYPE CODE 2  \\\n",
       "COLLISION_ID                                                            \n",
       "4271563                                     Sedan                Bike   \n",
       "4268322                                     Sedan                Bike   \n",
       "4268207       Station Wagon/Sport Utility Vehicle                Bike   \n",
       "4268408                                    E-Bike                Taxi   \n",
       "4269187                                     Sedan              E-Bike   \n",
       "\n",
       "                       STREET  \n",
       "COLLISION_ID                   \n",
       "4271563       CHAMBERS STREET  \n",
       "4268322                BOWERY  \n",
       "4268207        CENTRAL AVENUE  \n",
       "4268408        JACKSON AVENUE  \n",
       "4269187        DE KALB AVENUE  \n",
       "\n",
       "[5 rows x 21 columns]"
      ]
     },
     "execution_count": 53,
     "metadata": {},
     "output_type": "execute_result"
    }
   ],
   "source": [
    "# call the crash file \n",
    "file_path = \"../Resources/NYC_Crash_Cyclist_Cleaned.csv\"\n",
    "crash_df = pd.read_csv(file_path, index_col=0 )\n",
    "print(crash_df.shape)\n",
    "crash_df.head(5)"
   ]
  },
  {
   "cell_type": "code",
   "execution_count": 54,
   "id": "2bbbf55b-c737-4310-a87b-11b64b83aea8",
   "metadata": {},
   "outputs": [],
   "source": [
    "# set index column as index for the dataframe\n",
    "crash_df = crash_df.reset_index().set_index('index')"
   ]
  },
  {
   "cell_type": "code",
   "execution_count": 55,
   "id": "4d6a83fc-a327-4dae-97ea-6e75ddefd655",
   "metadata": {},
   "outputs": [],
   "source": [
    "# rename column names to match with weather data\n",
    "crash_df.rename(columns = {'CRASH DATE':'DATES', 'CRASH TIME': 'TIME'}, inplace =True )  "
   ]
  },
  {
   "cell_type": "code",
   "execution_count": 56,
   "id": "88a54e66-29f8-4fd5-9d66-3bb3793fbfe1",
   "metadata": {},
   "outputs": [],
   "source": [
    "# change DATES tybe into datatime\n",
    "crash_df[\"DATES\"]= pd.to_datetime(crash_df[\"DATES\"])"
   ]
  },
  {
   "cell_type": "code",
   "execution_count": 57,
   "id": "eca36a14-1c7e-462f-8cd6-dc6c36bd883f",
   "metadata": {},
   "outputs": [],
   "source": [
    "# add hour column from stripped from TIME columns first two letter\n",
    "crash_df[\"HOUR\"]= crash_df['TIME'].str[:2]"
   ]
  },
  {
   "cell_type": "code",
   "execution_count": 58,
   "id": "d51fcd2b-8c08-4183-b08c-c93d66f701e8",
   "metadata": {},
   "outputs": [],
   "source": [
    "crash_df[\"HOUR\"]= crash_df[\"HOUR\"].str.strip()"
   ]
  },
  {
   "cell_type": "code",
   "execution_count": 59,
   "id": "30159a50-cb53-4968-a5c7-e1249907f583",
   "metadata": {},
   "outputs": [
    {
     "data": {
      "text/plain": [
       "index\n",
       "13297    13\n",
       "13344    16\n",
       "13347    17\n",
       "13304    8:\n",
       "13349    11\n",
       "         ..\n",
       "13966    1:\n",
       "13971    6:\n",
       "13969    11\n",
       "13972    12\n",
       "13974    20\n",
       "Name: HOUR, Length: 9193, dtype: object"
      ]
     },
     "execution_count": 59,
     "metadata": {},
     "output_type": "execute_result"
    }
   ],
   "source": [
    "crash_df[\"HOUR\"]"
   ]
  },
  {
   "cell_type": "code",
   "execution_count": 60,
   "id": "b18ae79a-5eac-4ebd-a6d8-01232574e009",
   "metadata": {},
   "outputs": [],
   "source": [
    "# merge weather and crash data based on DATES and HOUR columns\n",
    "new = pd.merge(crash_df, weather_df1, how= \"left\", on=(['DATES', \"HOUR\"]))"
   ]
  },
  {
   "cell_type": "code",
   "execution_count": 61,
   "id": "184472f2-06cb-4081-aaf9-72dffd5a4028",
   "metadata": {},
   "outputs": [
    {
     "name": "stdout",
     "output_type": "stream",
     "text": [
      "(9193, 28)\n"
     ]
    }
   ],
   "source": [
    "print(new.shape)"
   ]
  },
  {
   "cell_type": "code",
   "execution_count": 62,
   "id": "2187cd2b-0d84-4200-9fb1-9038f863d782",
   "metadata": {},
   "outputs": [],
   "source": [
    "# drop over lapping columns\n",
    "new.drop([\"TIME_y\", \"HOUR\"], axis=1, inplace=True)"
   ]
  },
  {
   "cell_type": "code",
   "execution_count": 63,
   "id": "480a2209-650a-4a77-97d6-6fab04034680",
   "metadata": {},
   "outputs": [],
   "source": [
    "# keep one of the TIME column and change name\n",
    "new.rename(columns={\"TIME_x\":\"TIME\"}, inplace=True)"
   ]
  },
  {
   "cell_type": "code",
   "execution_count": 64,
   "id": "ef3b569f-4d77-4e33-b8ee-dd800c721947",
   "metadata": {},
   "outputs": [],
   "source": [
    "# Drop location column as we have latitude and longitude column\n",
    "new.drop([\"LOCATION\"], axis=1, inplace=True)"
   ]
  },
  {
   "cell_type": "code",
   "execution_count": 65,
   "id": "704c8985-70a0-4642-8173-a49bb080490a",
   "metadata": {},
   "outputs": [],
   "source": [
    "# accidently found that VEHICLE TYPE CODE 1 has upper and lower case letter, so unifor all as lower case\n",
    "new[\"VEHICLE TYPE CODE 1\"]=new[\"VEHICLE TYPE CODE 1\"].str.lower()"
   ]
  },
  {
   "cell_type": "code",
   "execution_count": 66,
   "id": "b53844dc-dd6c-4536-bf0e-08b3176da539",
   "metadata": {},
   "outputs": [],
   "source": [
    "new.to_csv(\"Crash_weather_merged.csv\")"
   ]
  },
  {
   "cell_type": "code",
   "execution_count": null,
   "id": "d1286337-1c32-46f3-a06c-e51688061038",
   "metadata": {},
   "outputs": [],
   "source": []
  }
 ],
 "metadata": {
  "kernelspec": {
   "display_name": "mlenv",
   "language": "python",
   "name": "mlenv"
  },
  "language_info": {
   "codemirror_mode": {
    "name": "ipython",
    "version": 3
   },
   "file_extension": ".py",
   "mimetype": "text/x-python",
   "name": "python",
   "nbconvert_exporter": "python",
   "pygments_lexer": "ipython3",
   "version": "3.7.13"
  }
 },
 "nbformat": 4,
 "nbformat_minor": 5
}
